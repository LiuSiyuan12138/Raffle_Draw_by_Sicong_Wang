{
 "cells": [
  {
   "cell_type": "code",
   "execution_count": 1,
   "metadata": {},
   "outputs": [],
   "source": [
    "import requests,re,datetime\n",
    "from bs4 import BeautifulSoup\n",
    "import pandas as pd\n",
    "import json\n",
    "import urllib.request"
   ]
  },
  {
   "cell_type": "code",
   "execution_count": 45,
   "metadata": {},
   "outputs": [],
   "source": [
    "headers = {\n",
    "\n",
    "'Accept': 'text/html, application/xhtml+xml, application/xml; q=0.9, */*; q=0.8',\n",
    "'Accept-Encoding':'gzip, deflate, br',\n",
    "'Accept-Language': 'zh-CN',\n",
    "'Connection':'Keep-Alive',\n",
    "'Cookie': 'wb_view_log=1536*8641.25; SINAGLOBAL=2056188645548.1892.1534946300336; ALF=1566482313; ULV=1543585752977:3:2:2:1422179051951.1645.1543585752561:1543581912199; SUHB=0ebssnM7ZIopAa; SUBP=0033WrSXqPxfM72-Ws9jqgMF55529P9D9WFzd3woboF_FaNwvMU8VmOW; SUB=_2AkMrXb_5f8NxqwJRmPETy2ngaYlzzgvEieKdAU4iJRMxHRl-yT83qlIltRB6AN2RFgY5bnhL9VHqaxV8E-7LgCy7n-KQ; YF-Page-G0=86b4280420ced6d22f1c1e4dc25fe846; _s_tentry=-; Apache=1422179051951.1645.1543585752561',\n",
    "'Host': 'weibo.com',\n",
    "'Upgrade-Insecure-Requests': '1',\n",
    "'User-Agent': 'Mozilla/5.0 (Windows NT 10.0; Win64; x64) AppleWebKit/537.36 (KHTML, like Gecko) Chrome/64.0.3282.140 Safari/537.36 Edge/17.17134',\n",
    "}\n",
    "def get_share(url):\n",
    "    try:\n",
    "        r=requests.get(url,headers=headers)\n",
    "        html=r.text\n",
    "        soup=BeautifulSoup(html,'lxml')\n",
    "        a=soup.get_text()\n",
    "        res_tr = r'&#xe607;<\\\\/em><em>(.*?)<\\\\/em><\\\\/span><\\\\/span><\\\\/span><\\\\/a>\\\\n'\n",
    "        m_tr = re.findall(res_tr, a, re.S | re.M)[0]\n",
    "        return m_tr\n",
    "    except IndexError:\n",
    "        return 0\n",
    "def get_comment(url):\n",
    "    try:\n",
    "        r=requests.get(url,headers=headers)\n",
    "        html=r.text\n",
    "        soup=BeautifulSoup(html,'lxml')\n",
    "        a=soup.get_text()\n",
    "        res_tr2 = r'&#xe608;<\\\\/em><em>(.*?)<\\\\/em><\\\\/span><\\\\/span><\\\\/span><\\\\/a>\\\\n'\n",
    "        m_tr2 = re.findall(res_tr2, a, re.S | re.M)[0]\n",
    "        return m_tr2\n",
    "    except IndexError:\n",
    "        return 0\n",
    "def get_like(url):\n",
    "    try:\n",
    "        r=requests.get(url,headers=headers)\n",
    "        html=r.text\n",
    "        soup=BeautifulSoup(html,'lxml')\n",
    "        a=soup.get_text()\n",
    "        res_tr3 = r'<em class=\\\\\"W_ficon ficon_praised S_txt2\\\\\">ñ<\\\\/em><em>(.*?)<\\\\/em><\\\\/span>'\n",
    "        m_tr3 = re.findall(res_tr3, a, re.S | re.M)[0]\n",
    "        return m_tr3\n",
    "    except IndexError:\n",
    "        return 0\n",
    "def get_all(url):\n",
    "    try:\n",
    "        r=requests.get(url,headers=headers)\n",
    "        html=r.text\n",
    "        soup=BeautifulSoup(html,'lxml')\n",
    "        a=soup.get_text()\n",
    "        res_tr = r'&#xe607;<\\\\/em><em>(.*?)<\\\\/em><\\\\/span><\\\\/span><\\\\/span><\\\\/a>\\\\n'\n",
    "        m_tr = re.findall(res_tr, a, re.S | re.M)[0]\n",
    "        res_tr2 = r'&#xe608;<\\\\/em><em>(.*?)<\\\\/em><\\\\/span><\\\\/span><\\\\/span><\\\\/a>\\\\n'\n",
    "        m_tr2 = re.findall(res_tr2, a, re.S | re.M)[0]\n",
    "        res_tr3 = r'<em class=\\\\\"W_ficon ficon_praised S_txt2\\\\\">ñ<\\\\/em><em>(.*?)<\\\\/em><\\\\/span>'\n",
    "        m_tr3 = re.findall(res_tr3, a, re.S | re.M)[0]\n",
    "        return int(m_tr),int(m_tr2),int(m_tr3)\n",
    "    except IndexError:\n",
    "        return 0,0,0"
   ]
  },
  {
   "cell_type": "code",
   "execution_count": 13,
   "metadata": {},
   "outputs": [],
   "source": [
    "c=pd.read_excel('追踪.xlsx')"
   ]
  },
  {
   "cell_type": "code",
   "execution_count": 14,
   "metadata": {},
   "outputs": [
    {
     "data": {
      "text/plain": [
       "Index(['链接', 2018-12-14 10:50:00], dtype='object')"
      ]
     },
     "execution_count": 14,
     "metadata": {},
     "output_type": "execute_result"
    }
   ],
   "source": [
    "c.columns"
   ]
  },
  {
   "cell_type": "code",
   "execution_count": 18,
   "metadata": {},
   "outputs": [
    {
     "ename": "SyntaxError",
     "evalue": "invalid syntax (<ipython-input-18-fa6a5f278958>, line 1)",
     "output_type": "error",
     "traceback": [
      "\u001b[1;36m  File \u001b[1;32m\"<ipython-input-18-fa6a5f278958>\"\u001b[1;36m, line \u001b[1;32m1\u001b[0m\n\u001b[1;33m    c.loc[2018-12-14 11:50:00]=str([1,1,1])\u001b[0m\n\u001b[1;37m                      ^\u001b[0m\n\u001b[1;31mSyntaxError\u001b[0m\u001b[1;31m:\u001b[0m invalid syntax\n"
     ]
    }
   ],
   "source": [
    "c.loc[2018-12-14 11:50:00]=str([1,1,1])"
   ]
  },
  {
   "cell_type": "code",
   "execution_count": 16,
   "metadata": {},
   "outputs": [
    {
     "data": {
      "text/html": [
       "<div>\n",
       "<style scoped>\n",
       "    .dataframe tbody tr th:only-of-type {\n",
       "        vertical-align: middle;\n",
       "    }\n",
       "\n",
       "    .dataframe tbody tr th {\n",
       "        vertical-align: top;\n",
       "    }\n",
       "\n",
       "    .dataframe thead th {\n",
       "        text-align: right;\n",
       "    }\n",
       "</style>\n",
       "<table border=\"1\" class=\"dataframe\">\n",
       "  <thead>\n",
       "    <tr style=\"text-align: right;\">\n",
       "      <th></th>\n",
       "      <th>链接</th>\n",
       "      <th>2018-12-14 10:50:00</th>\n",
       "      <th>2018-12-14 11:50:00</th>\n",
       "    </tr>\n",
       "  </thead>\n",
       "  <tbody>\n",
       "    <tr>\n",
       "      <th>0</th>\n",
       "      <td>https://weibo.com/6421957327/H7am91Zio?type=co...</td>\n",
       "      <td>[0,0,0]</td>\n",
       "      <td>[1, 1, 1]</td>\n",
       "    </tr>\n",
       "  </tbody>\n",
       "</table>\n",
       "</div>"
      ],
      "text/plain": [
       "                                                  链接 2018-12-14 10:50:00  \\\n",
       "0  https://weibo.com/6421957327/H7am91Zio?type=co...             [0,0,0]   \n",
       "\n",
       "  2018-12-14 11:50:00  \n",
       "0           [1, 1, 1]  "
      ]
     },
     "execution_count": 16,
     "metadata": {},
     "output_type": "execute_result"
    }
   ],
   "source": [
    "c"
   ]
  },
  {
   "cell_type": "code",
   "execution_count": 17,
   "metadata": {},
   "outputs": [
    {
     "data": {
      "text/plain": [
       "Index(['链接', 2018-12-14 10:50:00, '2018-12-14 11:50:00'], dtype='object')"
      ]
     },
     "execution_count": 17,
     "metadata": {},
     "output_type": "execute_result"
    }
   ],
   "source": [
    "c.columns"
   ]
  },
  {
   "cell_type": "code",
   "execution_count": 21,
   "metadata": {},
   "outputs": [
    {
     "name": "stdout",
     "output_type": "stream",
     "text": [
      "C:\\Users\\liu siyuan\\Desktop\\数据分析方法\\大作业-微博抽奖\\winner\n",
      "[]\n",
      "['winner1.csv', 'winner2.csv', 'winner3.csv', 'winner4.csv', 'winner5.csv', 'winner6.csv', 'winner7.csv', 'winner8.csv']\n"
     ]
    }
   ],
   "source": [
    "import os\n",
    "def file_name(file_dir):   \n",
    "    for root, dirs, files in os.walk(file_dir):  \n",
    "        print(root) #当前目录路径  \n",
    "        print(dirs) #当前路径下所有子目录  \n",
    "        print(files) #当前路径下所有非目录子文件 \n",
    "file_name(r'C:\\Users\\liu siyuan\\Desktop\\数据分析方法\\大作业-微博抽奖\\winner')"
   ]
  },
  {
   "cell_type": "code",
   "execution_count": 24,
   "metadata": {},
   "outputs": [
    {
     "data": {
      "text/plain": [
       "'2018-12-14'"
      ]
     },
     "execution_count": 24,
     "metadata": {},
     "output_type": "execute_result"
    }
   ],
   "source": [
    "now = datetime.datetime.now()\n",
    "now.strftime('%Y-%m-%d')"
   ]
  },
  {
   "cell_type": "code",
   "execution_count": 28,
   "metadata": {},
   "outputs": [
    {
     "data": {
      "text/plain": [
       "3285"
      ]
     },
     "execution_count": 28,
     "metadata": {},
     "output_type": "execute_result"
    }
   ],
   "source": [
    "year = datetime.timedelta(days=365)\n",
    "ten_years = year *10\n",
    "nine_years = ten_years - year\n",
    "nine_years.days"
   ]
  },
  {
   "cell_type": "code",
   "execution_count": 34,
   "metadata": {},
   "outputs": [
    {
     "data": {
      "text/plain": [
       "True"
      ]
     },
     "execution_count": 34,
     "metadata": {},
     "output_type": "execute_result"
    }
   ],
   "source": [
    "a=datetime.datetime.now()\n",
    "delta=datetime.timedelta(minutes=30)\n",
    "(a+delta).strftime('%Y-%m-%d %H:%M')=='2018-12-14 14:06'"
   ]
  },
  {
   "cell_type": "code",
   "execution_count": 37,
   "metadata": {},
   "outputs": [],
   "source": [
    "c=pd.read_excel('抽奖微博.xlsx')[['该微博链接','发布时间']]"
   ]
  },
  {
   "cell_type": "code",
   "execution_count": 48,
   "metadata": {},
   "outputs": [
    {
     "data": {
      "text/plain": [
       "'https://weibo.com/3992272124/H4rx33ZDZ?type=comment#_rnd1543761669270,2018-12-14 13:54,(908, 350, 461)'"
      ]
     },
     "execution_count": 48,
     "metadata": {},
     "output_type": "execute_result"
    }
   ],
   "source": [
    "c.loc[1,'该微博链接']+','+datetime.datetime.now().strftime('%Y-%m-%d %H:%M')+','+str(get_all(c.loc[1,'该微博链接']))"
   ]
  },
  {
   "cell_type": "code",
   "execution_count": 47,
   "metadata": {},
   "outputs": [
    {
     "data": {
      "text/plain": [
       "(908, 350, 461)"
      ]
     },
     "execution_count": 47,
     "metadata": {},
     "output_type": "execute_result"
    }
   ],
   "source": [
    "get_all(c.loc[1,'该微博链接'])"
   ]
  },
  {
   "cell_type": "code",
   "execution_count": null,
   "metadata": {},
   "outputs": [],
   "source": []
  }
 ],
 "metadata": {
  "kernelspec": {
   "display_name": "Python 3",
   "language": "python",
   "name": "python3"
  },
  "language_info": {
   "codemirror_mode": {
    "name": "ipython",
    "version": 3
   },
   "file_extension": ".py",
   "mimetype": "text/x-python",
   "name": "python",
   "nbconvert_exporter": "python",
   "pygments_lexer": "ipython3",
   "version": "3.6.4"
  }
 },
 "nbformat": 4,
 "nbformat_minor": 2
}
