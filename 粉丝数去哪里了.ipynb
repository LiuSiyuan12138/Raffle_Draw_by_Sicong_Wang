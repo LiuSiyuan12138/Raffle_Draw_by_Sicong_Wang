{
 "cells": [
  {
   "cell_type": "code",
   "execution_count": 1,
   "metadata": {},
   "outputs": [],
   "source": [
    "import requests,re,datetime\n",
    "from bs4 import BeautifulSoup\n",
    "import pandas as pd"
   ]
  },
  {
   "cell_type": "code",
   "execution_count": 2,
   "metadata": {},
   "outputs": [],
   "source": [
    "c=pd.read_excel(r'抽奖微博.xlsx')"
   ]
  },
  {
   "cell_type": "code",
   "execution_count": 13,
   "metadata": {},
   "outputs": [
    {
     "data": {
      "text/plain": [
       "0     3514064555\n",
       "1     3992272124\n",
       "2     2827386331\n",
       "3     5289935988\n",
       "4     3485942814\n",
       "5     1936656463\n",
       "6     2141347175\n",
       "7     5883203913\n",
       "8     5581785513\n",
       "9     2140284871\n",
       "10    1787971040\n",
       "11    5859973320\n",
       "12    3992272124\n",
       "13    1560021134\n",
       "14    3160553390\n",
       "15    5861184617\n",
       "16    1638782947\n",
       "17    3249343090\n",
       "18    2150511032\n",
       "19    2269960815\n",
       "20    1779593415\n",
       "21    1708159150\n",
       "22    3867009760\n",
       "23    1623235192\n",
       "24    3391520684\n",
       "25    1895300977\n",
       "26    5984978677\n",
       "27    1524748171\n",
       "28    1904228041\n",
       "29    1672384324\n",
       "         ...    \n",
       "60    2232206960\n",
       "61    5453659833\n",
       "62    2209948752\n",
       "63    2611510831\n",
       "64    1882235515\n",
       "65    1100856704\n",
       "66    6328544691\n",
       "67    5865838254\n",
       "68    6074930760\n",
       "69    2450967661\n",
       "70    6107512706\n",
       "71    5117240858\n",
       "72    5859973320\n",
       "73    5289935988\n",
       "74    5859973320\n",
       "75    2526981611\n",
       "76    2526981611\n",
       "77    5477394051\n",
       "78    6074930760\n",
       "79    6107512706\n",
       "80    5652330327\n",
       "81    6479190880\n",
       "82    6346667698\n",
       "83    1897032825\n",
       "84    5984978677\n",
       "85    1895300977\n",
       "86    5708044760\n",
       "87    6346667698\n",
       "88    5865838254\n",
       "89    6479190880\n",
       "Name: uid, Length: 90, dtype: object"
      ]
     },
     "execution_count": 13,
     "metadata": {},
     "output_type": "execute_result"
    }
   ],
   "source": [
    "def getuid(x):\n",
    "    return x[18:28]\n",
    "c['uid']=c['该微博链接'].apply(getuid)\n",
    "c['uid']"
   ]
  },
  {
   "cell_type": "code",
   "execution_count": 33,
   "metadata": {},
   "outputs": [],
   "source": [
    "import json\n",
    "import urllib.request\n",
    "#设置代理IP\n",
    "proxy_addr=\"122.241.72.191:808\"\n",
    "def use_proxy(url,proxy_addr):\n",
    "    req=urllib.request.Request(url)\n",
    "    req.add_header(\"User-Agent\",\"Mozilla/5.0 (Windows NT 6.1; WOW64) AppleWebKit/537.36 (KHTML, like Gecko) Chrome/49.0.2623.221 Safari/537.36 SE 2.X MetaSr 1.0\")\n",
    "    proxy=urllib.request.ProxyHandler({'http':proxy_addr})\n",
    "    opener=urllib.request.build_opener(proxy,urllib.request.HTTPHandler)\n",
    "    urllib.request.install_opener(opener)\n",
    "    data=urllib.request.urlopen(req).read().decode('utf-8','ignore')\n",
    "    return data\n",
    "def get_userfans(id):\n",
    "    try:\n",
    "        url='https://m.weibo.cn/api/container/getIndex?type=uid&value='+str(id)\n",
    "        data=use_proxy(url,proxy_addr)\n",
    "        content=json.loads(data).get('data')\n",
    "        fensi=content.get('userInfo').get('followers_count')\n",
    "        print(str(id)+':'+str(fensi))\n",
    "        return fensi\n",
    "    except AttributeError:\n",
    "        print(str(id)+'出错了')\n",
    "        return 0"
   ]
  },
  {
   "cell_type": "code",
   "execution_count": 34,
   "metadata": {},
   "outputs": [
    {
     "data": {
      "text/plain": [
       "0"
      ]
     },
     "execution_count": 34,
     "metadata": {},
     "output_type": "execute_result"
    }
   ],
   "source": [
    "get_userfans('1799773611')"
   ]
  },
  {
   "cell_type": "code",
   "execution_count": 35,
   "metadata": {},
   "outputs": [
    {
     "name": "stdout",
     "output_type": "stream",
     "text": [
      "3514064555:2221037\n",
      "3992272124:55560\n",
      "2827386331:3609085\n",
      "5289935988:1238397\n",
      "3485942814:15238\n",
      "1936656463:8635\n",
      "2141347175:9586981\n",
      "5883203913:336499\n",
      "5581785513:9404969\n",
      "2140284871:3603796\n",
      "1787971040:216457\n",
      "5859973320:2714750\n",
      "3992272124:55560\n",
      "1560021134:2113164\n",
      "3160553390:735\n",
      "5861184617:604092\n",
      "1638782947:16971827\n",
      "3249343090:225924\n",
      "2150511032:13084896\n",
      "2269960815:20511\n",
      "1779593415:5394077\n",
      "1708159150:538028\n",
      "3867009760:3387\n",
      "1623235192:130031\n",
      "3391520684:1591920\n",
      "1895300977:2604862\n",
      "5984978677:2435023\n",
      "1524748171:1205169\n",
      "1904228041:7016353\n",
      "1672384324:8961244\n",
      "1726918143:10741372\n",
      "5143897135:524753\n",
      "5847936687:256223\n",
      "2075787667:1372126\n",
      "1176222671:177403\n",
      "2116541280:1172319\n",
      "5480176273:669647\n",
      "5472857989:788456\n",
      "6345465312:707239\n",
      "3228717734:1837634\n",
      "1747206594:229481\n",
      "5897929902:197499\n",
      "2793908930:153234\n",
      "1916401801:6483948\n",
      "1749139802:758011\n",
      "5124838719:18128\n",
      "2878044234:25376\n",
      "1805250771:2008219\n",
      "2919177471:32007\n",
      "6392713773:216209\n",
      "3249343090:225924\n",
      "2684526787:641417\n",
      "2871452950:547374\n",
      "5289935988:1238398\n",
      "5047072638:252442\n",
      "5861184617:604093\n",
      "1757573407:4236447\n",
      "5117240858:2170140\n",
      "2450967661:1413957\n",
      "2232206960:114817\n",
      "5453659833:28427\n",
      "2209948752:1389359\n",
      "2611510831:1568010\n",
      "1882235515:47151\n",
      "1100856704:6811232\n",
      "6328544691:372089\n",
      "5865838254:215637\n",
      "6074930760:3413060\n",
      "2450967661:1413960\n",
      "6107512706:2276252\n",
      "5117240858:2170139\n",
      "5859973320:2714749\n",
      "5289935988:1238398\n",
      "5859973320:2714749\n",
      "2526981611:1123891\n",
      "2526981611:1122985\n",
      "5477394051:1269847\n",
      "6074930760:3413060\n",
      "6107512706:2276252\n",
      "5652330327:212898\n",
      "6479190880:146330\n",
      "6346667698:886777\n",
      "1897032825:579687\n",
      "5984978677:2435026\n",
      "1895300977:2604876\n",
      "5708044760:1060052\n",
      "6346667698:886777\n",
      "5865838254:215638\n",
      "6479190880:146330\n"
     ]
    }
   ],
   "source": [
    "c['粉丝数']=c['uid'].apply(get_userfans)"
   ]
  },
  {
   "cell_type": "code",
   "execution_count": 36,
   "metadata": {},
   "outputs": [],
   "source": [
    "c.to_excel('抽奖微博.xlsx',index=None)"
   ]
  },
  {
   "cell_type": "code",
   "execution_count": null,
   "metadata": {},
   "outputs": [],
   "source": []
  }
 ],
 "metadata": {
  "kernelspec": {
   "display_name": "Python 3",
   "language": "python",
   "name": "python3"
  },
  "language_info": {
   "codemirror_mode": {
    "name": "ipython",
    "version": 3
   },
   "file_extension": ".py",
   "mimetype": "text/x-python",
   "name": "python",
   "nbconvert_exporter": "python",
   "pygments_lexer": "ipython3",
   "version": "3.6.4"
  }
 },
 "nbformat": 4,
 "nbformat_minor": 2
}
